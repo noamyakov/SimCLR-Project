{
 "cells": [
  {
   "cell_type": "markdown",
   "source": [
    "<h1><center><b>Deep Learning for Machine Perception</b></center></h1>\n",
    "<h3><center>Final Project</center></h3>\n",
    "<center>Noam Yakov</center>\n",
    "\n",
    "[![Open In Colab](https://colab.research.google.com/assets/colab-badge.svg)](https://colab.research.google.com/github/noamyakov/SimCLR-Project/blob/main/SimCLR.ipynb)"
   ],
   "metadata": {
    "collapsed": false,
    "pycharm": {
     "name": "#%% md\n"
    }
   }
  }
 ],
 "metadata": {
  "kernelspec": {
   "display_name": "Python 3",
   "language": "python",
   "name": "python3"
  },
  "language_info": {
   "codemirror_mode": {
    "name": "ipython",
    "version": 2
   },
   "file_extension": ".py",
   "mimetype": "text/x-python",
   "name": "python",
   "nbconvert_exporter": "python",
   "pygments_lexer": "ipython2",
   "version": "2.7.6"
  }
 },
 "nbformat": 4,
 "nbformat_minor": 0
}